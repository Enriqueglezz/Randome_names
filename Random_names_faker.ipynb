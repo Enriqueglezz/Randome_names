{
 "cells": [
  {
   "cell_type": "code",
   "execution_count": 7,
   "id": "1dbe3567",
   "metadata": {},
   "outputs": [],
   "source": [
    "from faker import Faker\n",
    "fake = Faker('es_MX')"
   ]
  },
  {
   "cell_type": "code",
   "execution_count": 8,
   "id": "5e3a1afd",
   "metadata": {},
   "outputs": [
    {
     "name": "stdout",
     "output_type": "stream",
     "text": [
      "[{'First name': 'Asunción', 'last_name': 'Páez', 'Job': 'Mecánico y reparador de vehículos de motor', 'State': 'Distrito Federal', 'City': 'Vieja Panamá'}, {'First name': 'Florencia', 'last_name': 'Collazo', 'Job': 'Médico especialista', 'State': 'Campeche', 'City': \"Vieja Côte d'Ivoire\"}, {'First name': 'Clara', 'last_name': 'Gracia', 'Job': 'Profesional de nivel medio del derecho y servicios legales', 'State': 'Sonora', 'City': 'Nueva Costa Rica'}, {'First name': 'Luz', 'last_name': 'Medrano', 'Job': 'Minero', 'State': 'Zacatecas', 'City': 'Vieja Italia'}, {'First name': 'Arcelia', 'last_name': 'Colón', 'Job': 'Director de servicios de salud', 'State': 'Baja California', 'City': 'Nueva Swazilandia'}, {'First name': 'Pedro', 'last_name': 'Zelaya', 'Job': 'Operador de instalaciones de procesamiento de metales', 'State': 'Quintana Roo', 'City': 'Nueva Mauricio'}, {'First name': 'Nancy', 'last_name': 'Mejía', 'Job': 'Director de investigación y desarrollo', 'State': 'Yucatán', 'City': 'San Ángel los bajos'}, {'First name': 'Uriel', 'last_name': 'Vigil', 'Job': 'Personal directivo de la administración pública', 'State': 'Colima', 'City': 'San Pamela de la Montaña'}, {'First name': 'Gloria', 'last_name': 'Baca', 'Job': 'Oficinista general', 'State': 'Oaxaca', 'City': 'San Ángela los bajos'}]\n"
     ]
    }
   ],
   "source": [
    "person_list=[]\n",
    "for i in range(1,10):\n",
    "    person = {}\n",
    "    person['First name']=fake.first_name()\n",
    "    person['last_name']=fake.last_name()\n",
    "    person['Job']=fake.job()\n",
    "    person['State']=fake.state()\n",
    "    person['City']=fake.city()\n",
    "    person_list.append(person)\n",
    "    \n",
    "print(person_list)"
   ]
  },
  {
   "cell_type": "code",
   "execution_count": null,
   "id": "34077dc4",
   "metadata": {},
   "outputs": [],
   "source": []
  }
 ],
 "metadata": {
  "kernelspec": {
   "display_name": "Python 3 (ipykernel)",
   "language": "python",
   "name": "python3"
  },
  "language_info": {
   "codemirror_mode": {
    "name": "ipython",
    "version": 3
   },
   "file_extension": ".py",
   "mimetype": "text/x-python",
   "name": "python",
   "nbconvert_exporter": "python",
   "pygments_lexer": "ipython3",
   "version": "3.9.12"
  }
 },
 "nbformat": 4,
 "nbformat_minor": 5
}
